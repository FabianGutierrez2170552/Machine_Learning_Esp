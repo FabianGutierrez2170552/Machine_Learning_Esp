{
  "nbformat": 4,
  "nbformat_minor": 0,
  "metadata": {
    "colab": {
      "name": "Chapter03.ipynb",
      "provenance": [],
      "toc_visible": true,
      "authorship_tag": "ABX9TyNi1/7RV5OsOfRRyOHf46Z6",
      "include_colab_link": true
    },
    "kernelspec": {
      "name": "python3",
      "display_name": "Python 3"
    },
    "language_info": {
      "name": "python"
    }
  },
  "cells": [
    {
      "cell_type": "markdown",
      "metadata": {
        "id": "view-in-github",
        "colab_type": "text"
      },
      "source": [
        "<a href=\"https://colab.research.google.com/github/FabianGutierrez2170552/Machine_Learning_Esp/blob/main/Chapter03.ipynb\" target=\"_parent\"><img src=\"https://colab.research.google.com/assets/colab-badge.svg\" alt=\"Open In Colab\"/></a>"
      ]
    },
    {
      "cell_type": "code",
      "metadata": {
        "id": "SNS5p26SzpNL"
      },
      "source": [
        "\n",
        "import pandas as pd\n",
        "import numpy as np\n",
        "pd.set_option('max_columns', 4, 'max_rows', 10, 'max_colwidth', 12)"
      ],
      "execution_count": null,
      "outputs": []
    },
    {
      "cell_type": "markdown",
      "metadata": {
        "id": "ZHKb6om24A-k"
      },
      "source": [
        "**How to do it...**"
      ]
    },
    {
      "cell_type": "code",
      "metadata": {
        "id": "MY9s4ICK0jSM"
      },
      "source": [
        "fname = ['Paul', 'John', 'Richard', 'George']\n",
        "lname = ['McCartney', 'Lennon', 'Starkey', 'Harrison']\n",
        "birth = [1942, 1940, 1940, 1943]"
      ],
      "execution_count": null,
      "outputs": []
    },
    {
      "cell_type": "code",
      "metadata": {
        "id": "JUHjXqgy0mKQ"
      },
      "source": [
        "\n",
        "people = {'first': fname, 'last': lname, 'birth': birth}"
      ],
      "execution_count": null,
      "outputs": []
    },
    {
      "cell_type": "code",
      "metadata": {
        "id": "SZRpX5EQ0pk_"
      },
      "source": [
        "beatles = pd.DataFrame(people)\n",
        "beatles"
      ],
      "execution_count": null,
      "outputs": []
    },
    {
      "cell_type": "markdown",
      "metadata": {
        "id": "W_icx_hA4XQj"
      },
      "source": [
        "**How it works...**"
      ]
    },
    {
      "cell_type": "code",
      "metadata": {
        "id": "6Uk3puww0tiw"
      },
      "source": [
        "beatles.index\n"
      ],
      "execution_count": null,
      "outputs": []
    },
    {
      "cell_type": "code",
      "metadata": {
        "id": "DslOUtsl0w3u"
      },
      "source": [
        "pd.DataFrame(people, index=['a', 'b', 'c', 'd'])"
      ],
      "execution_count": null,
      "outputs": []
    },
    {
      "cell_type": "markdown",
      "metadata": {
        "id": "xAEfXBd84d96"
      },
      "source": [
        "**There\\'s More**"
      ]
    },
    {
      "cell_type": "code",
      "metadata": {
        "id": "M9Dl09an0zOd"
      },
      "source": [
        "pd.DataFrame(\n",
        "[{\"first\":\"Paul\",\"last\":\"McCartney\", \"birth\":1942},\n",
        " {\"first\":\"John\",\"last\":\"Lennon\", \"birth\":1940},\n",
        " {\"first\":\"Richard\",\"last\":\"Starkey\", \"birth\":1940},\n",
        " {\"first\":\"George\",\"last\":\"Harrison\", \"birth\":1943}])"
      ],
      "execution_count": null,
      "outputs": []
    },
    {
      "cell_type": "code",
      "metadata": {
        "id": "ySZW4ZKo02GP"
      },
      "source": [
        "[{\"first\":\"Paul\",\"last\":\"McCartney\", \"birth\":1942},\n",
        " {\"first\":\"John\",\"last\":\"Lennon\", \"birth\":1940},\n",
        " {\"first\":\"Richard\",\"last\":\"Starkey\", \"birth\":1940},\n",
        " {\"first\":\"George\",\"last\":\"Harrison\", \"birth\":1943}],\n",
        " columns=['last', 'first', 'birth'])"
      ],
      "execution_count": null,
      "outputs": []
    },
    {
      "cell_type": "markdown",
      "metadata": {
        "id": "Ca6w6oMG4jmu"
      },
      "source": [
        "**How to do it...**"
      ]
    },
    {
      "cell_type": "code",
      "metadata": {
        "id": "KQOKZlzd04Kf"
      },
      "source": [
        "beatles"
      ],
      "execution_count": null,
      "outputs": []
    },
    {
      "cell_type": "code",
      "metadata": {
        "id": "ZA93Xw9c068i"
      },
      "source": [
        "from io import StringIO\n",
        "fout = StringIO()\n",
        "beatles.to_csv(fout)  # use a filename instead of fout"
      ],
      "execution_count": null,
      "outputs": []
    },
    {
      "cell_type": "code",
      "metadata": {
        "id": "j6B1c2mj1W4e"
      },
      "source": [
        "print(fout.getvalue())"
      ],
      "execution_count": null,
      "outputs": []
    },
    {
      "cell_type": "markdown",
      "metadata": {
        "id": "NAOeUbUI4oOw"
      },
      "source": [
        "**There\\'s More**"
      ]
    },
    {
      "cell_type": "code",
      "metadata": {
        "id": "NjndwQGW3HzP"
      },
      "source": [
        "_ = fout.seek(0)\n",
        "pd.read_csv(fout)"
      ],
      "execution_count": null,
      "outputs": []
    },
    {
      "cell_type": "code",
      "metadata": {
        "id": "-A9qWZV53JUP"
      },
      "source": [
        "_ = fout.seek(0)\n",
        "pd.read_csv(fout, index_col=0)"
      ],
      "execution_count": null,
      "outputs": []
    },
    {
      "cell_type": "code",
      "metadata": {
        "id": "MDdD9w9f3K8-"
      },
      "source": [
        "fout = StringIO()\n",
        "beatles.to_csv(fout, index=False) \n",
        "print(fout.getvalue())"
      ],
      "execution_count": null,
      "outputs": []
    },
    {
      "cell_type": "markdown",
      "metadata": {
        "id": "aWA0XX5d8m0Q"
      },
      "source": [
        "**How to do it...**"
      ]
    },
    {
      "cell_type": "code",
      "metadata": {
        "id": "lU9eFUrj3MvO"
      },
      "source": [
        "\n",
        "diamonds = pd.read_csv('data/diamonds.csv', nrows=1000)\n",
        "diamonds"
      ],
      "execution_count": null,
      "outputs": []
    },
    {
      "cell_type": "code",
      "metadata": {
        "id": "OcaPPgPM3OvP"
      },
      "source": [
        "diamonds.info()"
      ],
      "execution_count": null,
      "outputs": []
    },
    {
      "cell_type": "code",
      "metadata": {
        "id": "8C4DMc0_3QVP"
      },
      "source": [
        "diamonds2 = pd.read_csv('data/diamonds.csv', nrows=1000,\n",
        "    dtype={'carat': np.float32, 'depth': np.float32,\n",
        "           'table': np.float32, 'x': np.float32,\n",
        "           'y': np.float32, 'z': np.float32,\n",
        "           'price': np.int16})"
      ],
      "execution_count": null,
      "outputs": []
    },
    {
      "cell_type": "code",
      "metadata": {
        "id": "syflhPGp3SPu"
      },
      "source": [
        "diamonds2.info()"
      ],
      "execution_count": null,
      "outputs": []
    },
    {
      "cell_type": "code",
      "metadata": {
        "id": "_GO0T2H93UYQ"
      },
      "source": [
        "diamonds.describe()"
      ],
      "execution_count": null,
      "outputs": []
    },
    {
      "cell_type": "code",
      "metadata": {
        "id": "Q0g8pCEh3WTg"
      },
      "source": [
        "diamonds2.describe()"
      ],
      "execution_count": null,
      "outputs": []
    },
    {
      "cell_type": "code",
      "metadata": {
        "id": "9Q_7rdgi3ahA"
      },
      "source": [
        "diamonds2.cut.value_counts()"
      ],
      "execution_count": null,
      "outputs": []
    },
    {
      "cell_type": "code",
      "metadata": {
        "id": "UxI6rQgT3f3v"
      },
      "source": [
        "diamonds2.color.value_counts()"
      ],
      "execution_count": null,
      "outputs": []
    },
    {
      "cell_type": "code",
      "metadata": {
        "id": "2Aqn47ng3jgQ"
      },
      "source": [
        "diamonds2.clarity.value_counts()"
      ],
      "execution_count": null,
      "outputs": []
    },
    {
      "cell_type": "code",
      "metadata": {
        "id": "TNkSitqv3ngg"
      },
      "source": [
        "diamonds3 = pd.read_csv('data/diamonds.csv', nrows=1000,\n",
        "    dtype={'carat': np.float32, 'depth': np.float32,\n",
        "           'table': np.float32, 'x': np.float32,\n",
        "           'y': np.float32, 'z': np.float32,\n",
        "           'price': np.int16,\n",
        "           'cut': 'category', 'color': 'category',\n",
        "           'clarity': 'category'})"
      ],
      "execution_count": null,
      "outputs": []
    },
    {
      "cell_type": "code",
      "metadata": {
        "id": "WPVh_mjG3sEf"
      },
      "source": [
        "diamonds3.info()"
      ],
      "execution_count": null,
      "outputs": []
    },
    {
      "cell_type": "code",
      "metadata": {
        "id": "GlqYD8HM3uoe"
      },
      "source": [
        "np.iinfo(np.int8)"
      ],
      "execution_count": null,
      "outputs": []
    },
    {
      "cell_type": "code",
      "metadata": {
        "id": "OkHWKDf_3wQe"
      },
      "source": [
        "np.finfo(np.float16)"
      ],
      "execution_count": null,
      "outputs": []
    },
    {
      "cell_type": "code",
      "metadata": {
        "id": "-Kkr731b3yXg"
      },
      "source": [
        "cols = ['carat', 'cut', 'color', 'clarity', 'depth', 'table', 'price']\n",
        "diamonds4 = pd.read_csv('data/diamonds.csv', nrows=1000,\n",
        "    dtype={'carat': np.float32, 'depth': np.float32,\n",
        "           'table': np.float32, 'price': np.int16,\n",
        "           'cut': 'category', 'color': 'category',\n",
        "           'clarity': 'category'},\n",
        "    usecols=cols)"
      ],
      "execution_count": null,
      "outputs": []
    },
    {
      "cell_type": "code",
      "metadata": {
        "id": "odGPTeL630jP"
      },
      "source": [
        "diamonds4.info()"
      ],
      "execution_count": null,
      "outputs": []
    },
    {
      "cell_type": "code",
      "metadata": {
        "id": "YRIXPHw532Qf"
      },
      "source": [
        "cols = ['carat', 'cut', 'color', 'clarity', 'depth', 'table', 'price']\n",
        "diamonds_iter = pd.read_csv('data/diamonds.csv', nrows=1000,\n",
        "    dtype={'carat': np.float32, 'depth': np.float32,\n",
        "           'table': np.float32, 'price': np.int16,\n",
        "           'cut': 'category', 'color': 'category',\n",
        "           'clarity': 'category'},\n",
        "    usecols=cols,\n",
        "    chunksize=200)"
      ],
      "execution_count": null,
      "outputs": []
    },
    {
      "cell_type": "code",
      "metadata": {
        "id": "4306r11y334f"
      },
      "source": [
        "def process(df):\n",
        "    return f'processed {df.size} items'"
      ],
      "execution_count": null,
      "outputs": []
    },
    {
      "cell_type": "code",
      "metadata": {
        "id": "MjYsHaGA36lf"
      },
      "source": [
        "for chunk in diamonds_iter:\n",
        "    process(chunk)"
      ],
      "execution_count": null,
      "outputs": []
    },
    {
      "cell_type": "markdown",
      "metadata": {
        "id": "PxQWwiKV8z0I"
      },
      "source": [
        "**How it works...**\n",
        "\n",
        "\n",
        "**There\\'s more ...**"
      ]
    },
    {
      "cell_type": "code",
      "metadata": {
        "id": "9kRhB1Bi38RA"
      },
      "source": [
        "diamonds.price.memory_usage()"
      ],
      "execution_count": null,
      "outputs": []
    },
    {
      "cell_type": "code",
      "metadata": {
        "id": "v0jJhysr9BqS"
      },
      "source": [
        "diamonds.price.memory_usage(index=False)"
      ],
      "execution_count": null,
      "outputs": []
    },
    {
      "cell_type": "code",
      "metadata": {
        "id": "UBfudk7E9DLC"
      },
      "source": [
        "diamonds.cut.memory_usage()"
      ],
      "execution_count": null,
      "outputs": []
    },
    {
      "cell_type": "code",
      "metadata": {
        "id": "etG8aNWU9E2g"
      },
      "source": [
        "diamonds.cut.memory_usage(deep=True)"
      ],
      "execution_count": null,
      "outputs": []
    },
    {
      "cell_type": "code",
      "metadata": {
        "id": "PVEiBDV_9GaA"
      },
      "source": [
        "\n",
        "diamonds4.to_feather('/tmp/d.arr')\n",
        "diamonds5 = pd.read_feather('/tmp/d.arr')"
      ],
      "execution_count": null,
      "outputs": []
    },
    {
      "cell_type": "code",
      "metadata": {
        "id": "C790hwI29Hxw"
      },
      "source": [
        "diamonds4.to_parquet('/tmp/d.pqt')"
      ],
      "execution_count": null,
      "outputs": []
    },
    {
      "cell_type": "markdown",
      "metadata": {
        "id": "gF7wwd0_9Kl9"
      },
      "source": [
        "**How to do it...**"
      ]
    },
    {
      "cell_type": "code",
      "metadata": {
        "id": "tRXc6oo_9OJA"
      },
      "source": [
        "beatles.to_excel('/tmp/beat.xls')"
      ],
      "execution_count": null,
      "outputs": []
    },
    {
      "cell_type": "code",
      "metadata": {
        "id": "MT5XKpXq9Rzw"
      },
      "source": [
        "beatles.to_excel('/tmp/beat.xlsx')"
      ],
      "execution_count": null,
      "outputs": []
    },
    {
      "cell_type": "code",
      "metadata": {
        "id": "ewBt3QLS9TkB"
      },
      "source": [
        "beat2 = pd.read_excel('/tmp/beat.xls')\n",
        "beat2"
      ],
      "execution_count": null,
      "outputs": []
    },
    {
      "cell_type": "code",
      "metadata": {
        "id": "wYUMAJAY9Vcx"
      },
      "source": [
        "beat2 = pd.read_excel('/tmp/beat.xls', index_col=0)\n",
        "beat2"
      ],
      "execution_count": null,
      "outputs": []
    },
    {
      "cell_type": "code",
      "metadata": {
        "id": "C4hJ4Vqp9W4B"
      },
      "source": [
        "\n",
        "beat2.dtypes"
      ],
      "execution_count": null,
      "outputs": []
    },
    {
      "cell_type": "markdown",
      "metadata": {
        "id": "l7PZruMZ9Y14"
      },
      "source": [
        "**How it works...**\n",
        "\n",
        "\n",
        "**There's more...**"
      ]
    },
    {
      "cell_type": "code",
      "metadata": {
        "id": "klLMSjnt9d7t"
      },
      "source": [
        "xl_writer = pd.ExcelWriter('/tmp/beat.xlsx')\n",
        "beatles.to_excel(xl_writer, sheet_name='All')\n",
        "beatles[beatles.birth < 1941].to_excel(xl_writer, sheet_name='1940')\n",
        "xl_writer.save()"
      ],
      "execution_count": null,
      "outputs": []
    },
    {
      "cell_type": "markdown",
      "metadata": {
        "id": "M-fGBDG59ob3"
      },
      "source": [
        "**How to do it...**"
      ]
    },
    {
      "cell_type": "code",
      "metadata": {
        "id": "elsfEBoZ9lWw"
      },
      "source": [
        "autos = pd.read_csv('data/vehicles.csv.zip')\n",
        "autos"
      ],
      "execution_count": null,
      "outputs": []
    },
    {
      "cell_type": "code",
      "metadata": {
        "id": "4HT05Q1z9sTg"
      },
      "source": [
        "autos.modifiedOn.dtype"
      ],
      "execution_count": null,
      "outputs": []
    },
    {
      "cell_type": "code",
      "metadata": {
        "id": "7FWSlEMw9uow"
      },
      "source": [
        "autos.modifiedOn"
      ],
      "execution_count": null,
      "outputs": []
    },
    {
      "cell_type": "code",
      "metadata": {
        "id": "BsB1E8Hr9wCR"
      },
      "source": [
        "pd.to_datetime(autos.modifiedOn)  # doctest: +SKIP"
      ],
      "execution_count": null,
      "outputs": []
    },
    {
      "cell_type": "code",
      "metadata": {
        "id": "OaC3k8Sr9xkA"
      },
      "source": [
        "autos = pd.read_csv('data/vehicles.csv.zip',\n",
        "    parse_dates=['modifiedOn'])  # doctest: +SKIP\n",
        "autos.modifiedOn"
      ],
      "execution_count": null,
      "outputs": []
    },
    {
      "cell_type": "code",
      "metadata": {
        "id": "QUUn6z0_9zGx"
      },
      "source": [
        "import zipfile"
      ],
      "execution_count": null,
      "outputs": []
    },
    {
      "cell_type": "code",
      "metadata": {
        "id": "bu7ReGLX90hg"
      },
      "source": [
        "with zipfile.ZipFile('data/kaggle-survey-2018.zip') as z:\n",
        "    print('\\n'.join(z.namelist()))\n",
        "    kag = pd.read_csv(z.open('multipleChoiceResponses.csv'))\n",
        "    kag_questions = kag.iloc[0]\n",
        "    survey = kag.iloc[1:]"
      ],
      "execution_count": null,
      "outputs": []
    },
    {
      "cell_type": "code",
      "metadata": {
        "id": "GreDn_tr92I4"
      },
      "source": [
        "print(survey.head(2).T)"
      ],
      "execution_count": null,
      "outputs": []
    },
    {
      "cell_type": "markdown",
      "metadata": {
        "id": "dv_ebBSB94Rj"
      },
      "source": [
        "**How it works...**\n",
        "\n",
        "\n",
        "**There\\'s more...**\n",
        "\n",
        "\n",
        "**How to do it...**"
      ]
    },
    {
      "cell_type": "code",
      "metadata": {
        "id": "6aCxl9bh9_bi"
      },
      "source": [
        "import sqlite3\n",
        "con = sqlite3.connect('data/beat.db')\n",
        "with con:\n",
        "    cur = con.cursor()\n",
        "    cur.execute(\"\"\"DROP TABLE Band\"\"\")\n",
        "    cur.execute(\"\"\"CREATE TABLE Band(id INTEGER PRIMARY KEY,\n",
        "        fname TEXT, lname TEXT, birthyear INT)\"\"\")\n",
        "    cur.execute(\"\"\"INSERT INTO Band VALUES(\n",
        "        0, 'Paul', 'McCartney', 1942)\"\"\")\n",
        "    cur.execute(\"\"\"INSERT INTO Band VALUES(\n",
        "        1, 'John', 'Lennon', 1940)\"\"\")\n",
        "    _ = con.commit()"
      ],
      "execution_count": null,
      "outputs": []
    },
    {
      "cell_type": "code",
      "metadata": {
        "id": "jhR4AFzQ-CuG"
      },
      "source": [
        "import sqlalchemy as sa\n",
        "engine = sa.create_engine(\n",
        "  'sqlite:///data/beat.db', echo=True)\n",
        "sa_connection = engine.connect()"
      ],
      "execution_count": null,
      "outputs": []
    },
    {
      "cell_type": "code",
      "metadata": {
        "id": "RPydWRQH-FUR"
      },
      "source": [
        "beat = pd.read_sql('Band', sa_connection, index_col='id')\n",
        "beat"
      ],
      "execution_count": null,
      "outputs": []
    },
    {
      "cell_type": "code",
      "metadata": {
        "id": "DbbrYnO0-HIB"
      },
      "source": [
        "sql = '''SELECT fname, birthyear from Band'''\n",
        "fnames = pd.read_sql(sql, con)\n",
        "fnames"
      ],
      "execution_count": null,
      "outputs": []
    },
    {
      "cell_type": "markdown",
      "metadata": {
        "id": "TNocWIJO-Kmo"
      },
      "source": [
        "**How it work\\'s...**"
      ]
    },
    {
      "cell_type": "code",
      "metadata": {
        "id": "TCPaGr7T-Ibi"
      },
      "source": [
        "import json\n",
        "encoded = json.dumps(people)\n",
        "encoded"
      ],
      "execution_count": null,
      "outputs": []
    },
    {
      "cell_type": "code",
      "metadata": {
        "id": "Z8SsoUPe-Oxw"
      },
      "source": [
        "json.loads(encoded)"
      ],
      "execution_count": null,
      "outputs": []
    },
    {
      "cell_type": "markdown",
      "metadata": {
        "id": "GFcL6rC4-TlB"
      },
      "source": [
        "**How to do it...**"
      ]
    },
    {
      "cell_type": "code",
      "metadata": {
        "id": "1esSyert-QGh"
      },
      "source": [
        "beatles = pd.read_json(encoded)\n",
        "beatles"
      ],
      "execution_count": null,
      "outputs": []
    },
    {
      "cell_type": "code",
      "metadata": {
        "id": "42jWF7x6-XXA"
      },
      "source": [
        "records = beatles.to_json(orient='records')\n",
        "records"
      ],
      "execution_count": null,
      "outputs": []
    },
    {
      "cell_type": "code",
      "metadata": {
        "id": "VlSaEzDk-ZJh"
      },
      "source": [
        "pd.read_json(records, orient='records')"
      ],
      "execution_count": null,
      "outputs": []
    },
    {
      "cell_type": "code",
      "metadata": {
        "id": "sFsLere4-ach"
      },
      "source": [
        "split = beatles.to_json(orient='split')\n",
        "split"
      ],
      "execution_count": null,
      "outputs": []
    },
    {
      "cell_type": "code",
      "metadata": {
        "id": "mSejmZsN-bwx"
      },
      "source": [
        "pd.read_json(split, orient='split')"
      ],
      "execution_count": null,
      "outputs": []
    },
    {
      "cell_type": "code",
      "metadata": {
        "id": "QCmVIyiI-daj"
      },
      "source": [
        "index = beatles.to_json(orient='index')\n",
        "index"
      ],
      "execution_count": null,
      "outputs": []
    },
    {
      "cell_type": "code",
      "metadata": {
        "id": "j0JZ69oY-eqS"
      },
      "source": [
        "\n",
        "pd.read_json(index, orient='index')"
      ],
      "execution_count": null,
      "outputs": []
    },
    {
      "cell_type": "code",
      "metadata": {
        "id": "V7HatMca-f6U"
      },
      "source": [
        "values = beatles.to_json(orient='values')\n",
        "values"
      ],
      "execution_count": null,
      "outputs": []
    },
    {
      "cell_type": "code",
      "metadata": {
        "id": "EVNB4TPI-iLS"
      },
      "source": [
        "pd.read_json(values, orient='values')"
      ],
      "execution_count": null,
      "outputs": []
    },
    {
      "cell_type": "code",
      "metadata": {
        "id": "vm0844cD-jfg"
      },
      "source": [
        "\n",
        "(pd.read_json(values, orient='values')\n",
        "   .rename(columns=dict(enumerate(['first', 'last', 'birth'])))\n",
        ")"
      ],
      "execution_count": null,
      "outputs": []
    },
    {
      "cell_type": "code",
      "metadata": {
        "id": "vKqVXk6J-kyy"
      },
      "source": [
        "table = beatles.to_json(orient='table')\n",
        "table"
      ],
      "execution_count": null,
      "outputs": []
    },
    {
      "cell_type": "code",
      "metadata": {
        "id": "151MRyY6-mOx"
      },
      "source": [
        "pd.read_json(table, orient='table')"
      ],
      "execution_count": null,
      "outputs": []
    },
    {
      "cell_type": "markdown",
      "metadata": {
        "id": "HgAUi0rJ-p0K"
      },
      "source": [
        "**How it works...**\n",
        "\n",
        "\n",
        "**There\\'s more...**"
      ]
    },
    {
      "cell_type": "code",
      "metadata": {
        "id": "4uErAqli-nzC"
      },
      "source": [
        "output = beat.to_dict()\n",
        "output"
      ],
      "execution_count": null,
      "outputs": []
    },
    {
      "cell_type": "code",
      "metadata": {
        "id": "mbBtDOOw-u-Q"
      },
      "source": [
        "output['version'] = '0.4.1'\n",
        "json.dumps(output)"
      ],
      "execution_count": null,
      "outputs": []
    },
    {
      "cell_type": "markdown",
      "metadata": {
        "id": "vjY70sd2-yjL"
      },
      "source": [
        "**How to do it...**"
      ]
    },
    {
      "cell_type": "code",
      "metadata": {
        "id": "mLfszTxz-wUR"
      },
      "source": [
        "url ='https://en.wikipedia.org/wiki/The_Beatles_discography'\n",
        "dfs = pd.read_html(url)\n",
        "len(dfs)"
      ],
      "execution_count": null,
      "outputs": []
    },
    {
      "cell_type": "code",
      "metadata": {
        "id": "yZdmCejZ-3Mw"
      },
      "source": [
        "dfs[0]"
      ],
      "execution_count": null,
      "outputs": []
    },
    {
      "cell_type": "code",
      "metadata": {
        "id": "-PVq7_xs-49h"
      },
      "source": [
        "url ='https://en.wikipedia.org/wiki/The_Beatles_discography'\n",
        "dfs = pd.read_html(url, match='List of studio albums', na_values='—')\n",
        "len(dfs)"
      ],
      "execution_count": null,
      "outputs": []
    },
    {
      "cell_type": "code",
      "metadata": {
        "id": "YGqlFgP4-6US"
      },
      "source": [
        "dfs[0].columns"
      ],
      "execution_count": null,
      "outputs": []
    },
    {
      "cell_type": "code",
      "metadata": {
        "id": "prZwflmd-7p1"
      },
      "source": [
        "url ='https://en.wikipedia.org/wiki/The_Beatles_discography'\n",
        "dfs = pd.read_html(url, match='List of studio albums', na_values='—',\n",
        "    header=[0,1])\n",
        "len(dfs)"
      ],
      "execution_count": null,
      "outputs": []
    },
    {
      "cell_type": "code",
      "metadata": {
        "id": "1Tcet6eC-8-S"
      },
      "source": [
        "\n",
        "dfs[0]"
      ],
      "execution_count": null,
      "outputs": []
    },
    {
      "cell_type": "code",
      "metadata": {
        "id": "YbTBuI_a--Zw"
      },
      "source": [
        "dfs[0].columns"
      ],
      "execution_count": null,
      "outputs": []
    },
    {
      "cell_type": "code",
      "metadata": {
        "id": "glNuFzk1_AQB"
      },
      "source": [
        "df = dfs[0]\n",
        "df.columns = ['Title', 'Release', 'UK', 'AUS', 'CAN', 'FRA', 'GER',\n",
        "    'NOR', 'US', 'Certifications']\n",
        "df"
      ],
      "execution_count": null,
      "outputs": []
    },
    {
      "cell_type": "code",
      "metadata": {
        "id": "Sp_wgIf8_BiB"
      },
      "source": [
        "res = (df\n",
        "  .pipe(lambda df_: df_[~df_.Title.str.startswith('Released')])\n",
        "  .iloc[:-1]\n",
        "  .assign(release_date=lambda df_: pd.to_datetime(\n",
        "             df_.Release.str.extract(r'Released: (.*) Label')\n",
        "               [0]\n",
        "               .str.replace(r'\\[E\\]', '')\n",
        "          ),\n",
        "          label=lambda df_:df_.Release.str.extract(r'Label: (.*)')\n",
        "         )\n",
        "   .loc[:, ['Title', 'UK', 'AUS', 'CAN', 'FRA', 'GER', 'NOR',\n",
        "            'US', 'release_date', 'label']]\n",
        ")\n",
        "res"
      ],
      "execution_count": null,
      "outputs": []
    },
    {
      "cell_type": "markdown",
      "metadata": {
        "id": "fq4j_YTT_Fmi"
      },
      "source": [
        "**How it works...**\n",
        "\n",
        "\n",
        "**There is more...**"
      ]
    },
    {
      "cell_type": "code",
      "metadata": {
        "id": "zZLknUVb_DLB"
      },
      "source": [
        "url = 'https://github.com/mattharrison/datasets/blob/master/data/anscombes.csv'\n",
        "dfs = pd.read_html(url, attrs={'class': 'csv-data'})\n",
        "len(dfs)"
      ],
      "execution_count": null,
      "outputs": []
    },
    {
      "cell_type": "code",
      "metadata": {
        "id": "BBkqk-Tg_L3S"
      },
      "source": [
        "dfs[0]"
      ],
      "execution_count": null,
      "outputs": []
    }
  ]
}
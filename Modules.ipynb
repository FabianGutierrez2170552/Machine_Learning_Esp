{
  "nbformat": 4,
  "nbformat_minor": 0,
  "metadata": {
    "colab": {
      "name": "Modules.ipynb",
      "provenance": [],
      "authorship_tag": "ABX9TyO8lhXrDnQ/3MySLBrzkW4O",
      "include_colab_link": true
    },
    "kernelspec": {
      "name": "python3",
      "display_name": "Python 3"
    },
    "language_info": {
      "name": "python"
    }
  },
  "cells": [
    {
      "cell_type": "markdown",
      "metadata": {
        "id": "view-in-github",
        "colab_type": "text"
      },
      "source": [
        "<a href=\"https://colab.research.google.com/github/FabianGutierrez2170552/Machine_Learning_Esp/blob/main/Modules.ipynb\" target=\"_parent\"><img src=\"https://colab.research.google.com/assets/colab-badge.svg\" alt=\"Open In Colab\"/></a>"
      ]
    },
    {
      "cell_type": "markdown",
      "metadata": {
        "id": "KQ2tmb6zESBh"
      },
      "source": [
        "**Modules**\n",
        "\n",
        "Modules in Python, are files (scripts) containing statements and definitions. If you use the interpreter and made definitions like functions and variables, they lost when you quit, definitions can be imported into other modules.  \n"
      ]
    },
    {
      "cell_type": "markdown",
      "metadata": {
        "id": "fTLeXVGN0U_J"
      },
      "source": [
        "To do a module, you can use your favorite text editor and create a file like fibo.py note that .py extension helps to identify the module. Try to create a file with the next page and save it as a file .py"
      ]
    },
    {
      "cell_type": "code",
      "metadata": {
        "id": "8ss6JaERLRpv"
      },
      "source": [
        "# Fibonacci numbers module\n",
        "\n",
        "def fib(n):    # write Fibonacci series up to n\n",
        "    a, b = 0, 1\n",
        "    while a < n:\n",
        "        print(a, end=' ')\n",
        "        a, b = b, a+b\n",
        "    print()\n",
        "\n",
        "def fib2(n):   # return Fibonacci series up to n\n",
        "    result = []\n",
        "    a, b = 0, 1\n",
        "    while a < n:\n",
        "        result.append(a)\n",
        "        a, b = b, a+b\n",
        "    return result"
      ],
      "execution_count": null,
      "outputs": []
    },
    {
      "cell_type": "markdown",
      "metadata": {
        "id": "dnshIbxCzSoR"
      },
      "source": [
        "**Functions**\n",
        "\n",
        "The page before shows two differente functions that make the same result. Both are into the fibo.py file, and now you can import module in an other module or interpreter. "
      ]
    },
    {
      "cell_type": "markdown",
      "metadata": {
        "id": "AthJEOgNznVG"
      },
      "source": [
        "Now you can call the function..."
      ]
    },
    {
      "cell_type": "code",
      "metadata": {
        "id": "708hxP8Ncf-X"
      },
      "source": [
        "fib(1000)\n",
        "dir(fib)"
      ],
      "execution_count": null,
      "outputs": []
    },
    {
      "cell_type": "markdown",
      "metadata": {
        "id": "RhZ7qUgK0-WE"
      },
      "source": [
        "If you have the module imperted with the instruction **import fibo** now you can call the function with fibo.fib and send the parameter. "
      ]
    },
    {
      "cell_type": "markdown",
      "metadata": {
        "id": "pIGPrXes1SN6"
      },
      "source": [
        "Use differente ways to call the functions..."
      ]
    },
    {
      "cell_type": "code",
      "metadata": {
        "id": "h9fNa7mz1V79"
      },
      "source": [
        ">>> fib(1000)\n",
        "#0 1 1 2 3 5 8 13 21 34 55 89 144 233 377 610 987\n",
        ">>> fib2(100)\n",
        "#[0, 1, 1, 2, 3, 5, 8, 13, 21, 34, 55, 89]\n",
        ">>> fib.__name__ #Shows the module name\n",
        "#'fibo'"
      ],
      "execution_count": null,
      "outputs": []
    },
    {
      "cell_type": "markdown",
      "metadata": {
        "id": "HqBvPBgJ2RmJ"
      },
      "source": [
        "Use an alias to name your module or function. "
      ]
    },
    {
      "cell_type": "code",
      "metadata": {
        "id": "tL7PKRKc1dSp"
      },
      "source": [
        ">>> fib1 = fib\n",
        ">>> fib(500)\n",
        "#0 1 1 2 3 5 8 13 21 34 55 89 144 233 377"
      ],
      "execution_count": null,
      "outputs": []
    },
    {
      "cell_type": "markdown",
      "metadata": {
        "id": "oI4TfSnc2ZH5"
      },
      "source": [
        "Use the instruction from to call your module anda module functions. "
      ]
    },
    {
      "cell_type": "code",
      "metadata": {
        "id": "Sr-PcP5r1gQp"
      },
      "source": [
        ">>> #from fibo import fib, fib2\n",
        ">>> fib(500)\n",
        "#0 1 1 2 3 5 8 13 21 34 55 89 144 233 377"
      ],
      "execution_count": null,
      "outputs": []
    },
    {
      "cell_type": "markdown",
      "metadata": {
        "id": "ZCmqdWqk2fo5"
      },
      "source": [
        "Import one by one function or import all names taht the module defines using * "
      ]
    },
    {
      "cell_type": "code",
      "metadata": {
        "id": "IW8rAQCR1jVd"
      },
      "source": [
        ">>> #from fibo import *\n",
        ">>> fib(500)\n",
        "#0 1 1 2 3 5 8 13 21 34 55 89 144 233 377"
      ],
      "execution_count": null,
      "outputs": []
    },
    {
      "cell_type": "markdown",
      "metadata": {
        "id": "43_tsrVm22w1"
      },
      "source": [
        "Use an alias to import a module. "
      ]
    },
    {
      "cell_type": "code",
      "metadata": {
        "id": "EBdplE621lKZ"
      },
      "source": [
        ">>> #import fibo as fib\n",
        ">>> fib.fib(500)\n",
        "#0 1 1 2 3 5 8 13 21 34 55 89 144 233 377"
      ],
      "execution_count": null,
      "outputs": []
    },
    {
      "cell_type": "markdown",
      "metadata": {
        "id": "I2NL6uSK3B5B"
      },
      "source": [
        "Import the module with another name. "
      ]
    },
    {
      "cell_type": "code",
      "metadata": {
        "id": "Bs-h2jvM1m_K"
      },
      "source": [
        ">>> #from fibo import fib as fibonacci\n",
        "fibonacci = fib1\n",
        ">>> fibonacci(500)\n",
        "#0 1 1 2 3 5 8 13 21 34 55 89 144 233 377"
      ],
      "execution_count": null,
      "outputs": []
    },
    {
      "cell_type": "markdown",
      "metadata": {
        "id": "vzKXDLcZ4pZY"
      },
      "source": [
        "Number and show all modules. "
      ]
    },
    {
      "cell_type": "code",
      "metadata": {
        "id": "YJf4xOvsgmK4"
      },
      "source": [
        "import pandas\n",
        "for i in range(len(dir(pandas))):\n",
        "  print(i, dir(pandas)[i])"
      ],
      "execution_count": null,
      "outputs": []
    }
  ]
}